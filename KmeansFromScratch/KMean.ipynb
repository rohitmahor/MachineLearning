{
 "cells": [
  {
   "cell_type": "markdown",
   "metadata": {},
   "source": [
    "# KMeans Algorithm from scratch"
   ]
  },
  {
   "cell_type": "code",
   "execution_count": 8,
   "metadata": {},
   "outputs": [],
   "source": [
    "import numpy as np\n",
    "import pandas as pd\n",
    "import matplotlib.pyplot as plt\n",
    "import math"
   ]
  },
  {
   "cell_type": "code",
   "execution_count": 9,
   "metadata": {},
   "outputs": [],
   "source": [
    "#read dataset\n",
    "def readDataset(file):\n",
    "    return np.loadtxt('dataset.txt')"
   ]
  },
  {
   "cell_type": "code",
   "execution_count": 10,
   "metadata": {},
   "outputs": [],
   "source": [
    "def euclidean_dist(x1y1, x2y2):\n",
    "    return np.linalg.norm(x1y1-x2y2)"
   ]
  },
  {
   "cell_type": "code",
   "execution_count": 15,
   "metadata": {},
   "outputs": [],
   "source": [
    "# kmeans algorithm\n",
    "def kmeans(dataset, k=2, epsilion=0):\n",
    "    num_samples, num_features = dataset.shape\n",
    "    # choose two random points from dataset\n",
    "    centeroids = dataset[np.random.randint(num_samples,size=k)]\n",
    "    centeroids_old = np.zeros((k, num_features))\n",
    "    #Initialize vector with zeros of length num_samples\n",
    "    belongs_to = np.zeros((num_samples, 1))\n",
    "    norm = euclidean_dist(centeroids, centeroids_old)\n",
    "    iteration = 0\n",
    "    while(norm > epsilion):\n",
    "        iteration += 1\n",
    "        norm = euclidean_dist(centeroids, centeroids_old)\n",
    "        centeroids_old = centeroids\n",
    "        for sample_index,row in enumerate(dataset):\n",
    "            dist = np.zeros((k,1))\n",
    "            for centeroid_index,centeroid in enumerate(centeroids):\n",
    "                dist[centeroid_index] = euclidean_dist(row, centeroid)\n",
    "            belongs_to[sample_index] = np.argmin(dist)\n",
    "\n",
    "        centeroids_new = np.zeros((k,num_features))\n",
    "        for centeroid_index in range(0,k):\n",
    "            close = [i for i,b in enumerate(belongs_to) if b == centeroid_index]\n",
    "            centeroids_new[centeroid_index, :] = np.mean(dataset[close], axis=0)\n",
    "        centeroids = centeroids_new\n",
    "        \n",
    "    return centeroids,belongs_to, iteration"
   ]
  },
  {
   "cell_type": "code",
   "execution_count": 17,
   "metadata": {},
   "outputs": [],
   "source": [
    "dataset = readDataset('dataset.txt')\n",
    "centeroids, belongs_to, iterations = kmeans(dataset, 2, 0)"
   ]
  },
  {
   "cell_type": "code",
   "execution_count": 18,
   "metadata": {},
   "outputs": [
    {
     "data": {
      "text/plain": [
       "<matplotlib.collections.PathCollection at 0x2b2c56dc438>"
      ]
     },
     "execution_count": 18,
     "metadata": {},
     "output_type": "execute_result"
    },
    {
     "data": {
      "image/png": "[encoded data removed]",
      "text/plain": [
       "<Figure size 432x288 with 1 Axes>"
      ]
     },
     "metadata": {},
     "output_type": "display_data"
    }
   ],
   "source": [
    "plt.scatter([x[0] for x in dataset], [x[1] for x in dataset], color='b')\n",
    "plt.scatter([x[0] for x in centeroids], [x[1] for x in centeroids], color='r')"
   ]
  },
  {
   "cell_type": "code",
   "execution_count": null,
   "metadata": {},
   "outputs": [],
   "source": []
  },
  {
   "cell_type": "code",
   "execution_count": null,
   "metadata": {},
   "outputs": [],
   "source": []
  }
 ],
 "metadata": {
  "kernelspec": {
   "display_name": "Python 3",
   "language": "python",
   "name": "python3"
  },
  "language_info": {
   "codemirror_mode": {
    "name": "ipython",
    "version": 3
   },
   "file_extension": ".py",
   "mimetype": "text/x-python",
   "name": "python",
   "nbconvert_exporter": "python",
   "pygments_lexer": "ipython3",
   "version": "3.6.5"
  }
 },
 "nbformat": 4,
 "nbformat_minor": 2
}
